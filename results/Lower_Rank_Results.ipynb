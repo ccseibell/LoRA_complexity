{
  "nbformat": 4,
  "nbformat_minor": 0,
  "metadata": {
    "colab": {
      "provenance": [],
      "authorship_tag": "ABX9TyM4sLybE+F6aDkl0x/4pFay",
      "include_colab_link": true
    },
    "kernelspec": {
      "name": "python3",
      "display_name": "Python 3"
    },
    "language_info": {
      "name": "python"
    }
  },
  "cells": [
    {
      "cell_type": "markdown",
      "metadata": {
        "id": "view-in-github",
        "colab_type": "text"
      },
      "source": [
        "<a href=\"https://colab.research.google.com/github/ccseibell/LoRA_complexity/blob/main/results/Lower_Rank_Results.ipynb\" target=\"_parent\"><img src=\"https://colab.research.google.com/assets/colab-badge.svg\" alt=\"Open In Colab\"/></a>"
      ]
    },
    {
      "cell_type": "code",
      "execution_count": null,
      "metadata": {
        "colab": {
          "base_uri": "https://localhost:8080/"
        },
        "id": "qooPjDcbqC6b",
        "outputId": "3beb9b86-6748-4159-ed51-1824c79ecd75"
      },
      "outputs": [
        {
          "output_type": "stream",
          "name": "stderr",
          "text": [
            "<ipython-input-1-a4c73d7b7c90>:34: FutureWarning: You are using `torch.load` with `weights_only=False` (the current default value), which uses the default pickle module implicitly. It is possible to construct malicious pickle data which will execute arbitrary code during unpickling (See https://github.com/pytorch/pytorch/blob/main/SECURITY.md#untrusted-models for more details). In a future release, the default value for `weights_only` will be flipped to `True`. This limits the functions that could be executed during unpickling. Arbitrary objects will no longer be allowed to be loaded via this mode unless they are explicitly allowlisted by the user via `torch.serialization.add_safe_globals`. We recommend you start setting `weights_only=True` for any use case where you don't have full control of the loaded file. Please open an issue on GitHub for any issues related to this experimental feature.\n",
            "  lora_params = torch.load(file_path, map_location=\"cpu\")\n"
          ]
        },
        {
          "output_type": "stream",
          "name": "stdout",
          "text": [
            "Saved plot for /content/lora_params_2class_16r.pt as lora_params_2class_16r.png\n",
            "Saved plot for /content/lora_params_2class_256r.pt as lora_params_2class_256r.png\n",
            "Saved plot for /content/lora_params_2class_32r.pt as lora_params_2class_32r.png\n",
            "Saved plot for /content/lora_params_2class_4r.pt as lora_params_2class_4r.png\n",
            "Saved plot for /content/lora_params_2class_8r.pt as lora_params_2class_8r.png\n",
            "Saved plot for /content/lora_params_5class_16r.pt as lora_params_5class_16r.png\n",
            "Saved plot for /content/lora_params_5class_256r.pt as lora_params_5class_256r.png\n",
            "Saved plot for /content/lora_params_5class_32r.pt as lora_params_5class_32r.png\n",
            "Saved plot for /content/lora_params_5class_4r.pt as lora_params_5class_4r.png\n",
            "Saved plot for /content/lora_params_5class_8r.pt as lora_params_5class_8r.png\n"
          ]
        }
      ],
      "source": [
        "import torch\n",
        "import numpy as np\n",
        "import matplotlib.pyplot as plt\n",
        "import os\n",
        "\n",
        "# List of file paths for the LoRA parameter files\n",
        "file_paths = [\n",
        "    \"/content/lora_params_2class_16r.pt\",\n",
        "    \"/content/lora_params_2class_256r.pt\",\n",
        "    \"/content/lora_params_2class_32r.pt\",\n",
        "    \"/content/lora_params_2class_4r.pt\",\n",
        "    \"/content/lora_params_2class_8r.pt\",\n",
        "    \"/content/lora_params_5class_16r.pt\",\n",
        "    \"/content/lora_params_5class_256r.pt\",\n",
        "    \"/content/lora_params_5class_32r.pt\",\n",
        "    \"/content/lora_params_5class_4r.pt\",\n",
        "    \"/content/lora_params_5class_8r.pt\",\n",
        "]\n",
        "\n",
        "def gini(array):\n",
        "    \"\"\"Calculate the Gini coefficient of a numpy array.\"\"\"\n",
        "    array = array.flatten()\n",
        "    if np.amin(array) < 0:\n",
        "        array -= np.amin(array)  # Ensure non-negative values\n",
        "    array += 1e-10  # Avoid division by zero\n",
        "    array = np.sort(array)\n",
        "    index = np.arange(1, array.shape[0] + 1)\n",
        "    return (np.sum((2 * index - array.size - 1) * array)) / (array.size * np.sum(array))\n",
        "\n",
        "# Function to process a single file and plot the graph\n",
        "def process_file(file_path):\n",
        "    # Load LoRA parameters\n",
        "    try:\n",
        "        lora_params = torch.load(file_path, map_location=\"cpu\")\n",
        "    except Exception as e:\n",
        "        print(f\"Error loading file {file_path}: {e}\")\n",
        "        return\n",
        "\n",
        "    # Separate Gini coefficients and layer types\n",
        "    gini_coefficients_a = []\n",
        "    gini_coefficients_b = []\n",
        "    layer_types_a = []  # Store types (query, key, value) for LoRA_A\n",
        "    layer_types_b = []  # Store types (query, key, value) for LoRA_B\n",
        "\n",
        "    # Process each parameter\n",
        "    for name, matrix in lora_params.items():\n",
        "        if isinstance(matrix, torch.Tensor):  # Ensure it's a tensor\n",
        "            matrix_np = matrix.cpu().detach().numpy()\n",
        "            try:\n",
        "                # Perform SVD to get singular values\n",
        "                singular_values = np.linalg.svd(matrix_np, compute_uv=False)\n",
        "\n",
        "                # Determine if it's LoRA_A or LoRA_B\n",
        "                if \"lora_A\" in name:\n",
        "                    gini_coefficients_a.append(gini(singular_values))\n",
        "                    if \"query\" in name:\n",
        "                        layer_types_a.append(\"query\")\n",
        "                    elif \"key\" in name:\n",
        "                        layer_types_a.append(\"key\")\n",
        "                    elif \"value\" in name:\n",
        "                        layer_types_a.append(\"value\")\n",
        "                elif \"lora_B\" in name:\n",
        "                    gini_coefficients_b.append(gini(singular_values))\n",
        "                    if \"query\" in name:\n",
        "                        layer_types_b.append(\"query\")\n",
        "                    elif \"key\" in name:\n",
        "                        layer_types_b.append(\"key\")\n",
        "                    elif \"value\" in name:\n",
        "                        layer_types_b.append(\"value\")\n",
        "            except np.linalg.LinAlgError as svd_error:\n",
        "                print(f\"SVD failed for layer {name}: {svd_error}\")\n",
        "            except Exception as e:\n",
        "                print(f\"Unexpected error processing layer {name}: {e}\")\n",
        "\n",
        "    # Map layer types to colors\n",
        "    color_map = {\"query\": \"purple\", \"key\": \"green\", \"value\": \"turquoise\"}\n",
        "    dot_colors_a = [color_map[layer] for layer in layer_types_a]\n",
        "    dot_colors_b = [color_map[layer] for layer in layer_types_b]\n",
        "\n",
        "    # Plotting\n",
        "    plt.figure(figsize=(12, 6))\n",
        "\n",
        "    # Plot LoRA_A (red line) with color-coded dots\n",
        "    plt.plot(range(len(gini_coefficients_a)), gini_coefficients_a, color=\"red\", linestyle=\"--\", label=\"LoRA_A (Red)\")\n",
        "    for i, color in enumerate(dot_colors_a):\n",
        "        plt.scatter(i, gini_coefficients_a[i], color=color, edgecolor=\"black\", s=50)\n",
        "\n",
        "    # Plot LoRA_B (blue line) with color-coded dots\n",
        "    plt.plot(range(len(gini_coefficients_b)), gini_coefficients_b, color=\"blue\", linestyle=\"--\", label=\"LoRA_B (Blue)\")\n",
        "    for i, color in enumerate(dot_colors_b):\n",
        "        plt.scatter(i, gini_coefficients_b[i], color=color, edgecolor=\"black\", s=50)\n",
        "\n",
        "    # Add average lines\n",
        "    average_score_a = np.mean(gini_coefficients_a) if gini_coefficients_a else 0\n",
        "    average_score_b = np.mean(gini_coefficients_b) if gini_coefficients_b else 0\n",
        "    plt.axhline(y=average_score_a, color=\"darkred\", linestyle=\"--\", label=f\"Average Gini (LoRA_A: {average_score_a:.3f})\")\n",
        "    plt.axhline(y=average_score_b, color=\"darkblue\", linestyle=\"--\", label=f\"Average Gini (LoRA_B: {average_score_b:.3f})\")\n",
        "\n",
        "    # Add legend for colors\n",
        "    plt.scatter([], [], color=\"purple\", edgecolor=\"black\", s=50, label=\"Query Layers\")\n",
        "    plt.scatter([], [], color=\"green\", edgecolor=\"black\", s=50, label=\"Key Layers\")\n",
        "    plt.scatter([], [], color=\"turquoise\", edgecolor=\"black\", s=50, label=\"Value Layers\")\n",
        "\n",
        "    # Labels, legend, and grid\n",
        "    plt.xlabel(\"Layer Index\")\n",
        "    plt.ylabel(\"Gini Coefficient\")\n",
        "    plt.title(f\"Gini Coefficients for {os.path.basename(file_path)}\")\n",
        "    plt.legend()\n",
        "    plt.grid(True)\n",
        "\n",
        "    # Save the plot\n",
        "    output_file = f\"{os.path.splitext(os.path.basename(file_path))[0]}.png\"\n",
        "    plt.savefig(output_file)\n",
        "    plt.close()\n",
        "    print(f\"Saved plot for {file_path} as {output_file}\")\n",
        "\n",
        "# Loop through each file and process it\n",
        "for file_path in file_paths:\n",
        "    process_file(file_path)\n"
      ]
    }
  ]
}